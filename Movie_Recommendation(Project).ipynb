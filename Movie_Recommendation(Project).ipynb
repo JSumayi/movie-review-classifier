{
  "nbformat": 4,
  "nbformat_minor": 0,
  "metadata": {
    "colab": {
      "provenance": []
    },
    "kernelspec": {
      "name": "python3",
      "display_name": "Python 3"
    },
    "language_info": {
      "name": "python"
    }
  },
  "cells": [
    {
      "cell_type": "code",
      "execution_count": 1,
      "metadata": {
        "id": "0Hv-8HrufVFw"
      },
      "outputs": [],
      "source": [
        "import pandas as pd\n",
        "from sklearn.model_selection import train_test_split\n",
        "from sklearn.feature_extraction.text import CountVectorizer\n",
        "from sklearn.naive_bayes import MultinomialNB\n",
        "from sklearn.metrics import accuracy_score\n",
        "from nltk.corpus import movie_reviews\n",
        "import random"
      ]
    },
    {
      "cell_type": "code",
      "source": [
        "import nltk\n",
        "nltk.download('movie_reviews')\n"
      ],
      "metadata": {
        "colab": {
          "base_uri": "https://localhost:8080/"
        },
        "id": "X0vGismeh0kB",
        "outputId": "bcdd7bb8-aef3-4db7-ad27-95bac3b8c90d"
      },
      "execution_count": 3,
      "outputs": [
        {
          "output_type": "stream",
          "name": "stderr",
          "text": [
            "[nltk_data] Downloading package movie_reviews to /root/nltk_data...\n",
            "[nltk_data]   Unzipping corpora/movie_reviews.zip.\n"
          ]
        },
        {
          "output_type": "execute_result",
          "data": {
            "text/plain": [
              "True"
            ]
          },
          "metadata": {},
          "execution_count": 3
        }
      ]
    },
    {
      "cell_type": "code",
      "source": [
        "# Load the dataset from nltk\n",
        "reviews = [(movie_reviews.raw(fileid), category)\n",
        "           for category in movie_reviews.categories()\n",
        "           for fileid in movie_reviews.fileids(category)]\n",
        "\n",
        "# Shuffle the reviews to ensure randomness\n",
        "random.shuffle(reviews)\n",
        "\n",
        "# Convert to DataFrame\n",
        "df = pd.DataFrame(reviews, columns=['review', 'sentiment'])"
      ],
      "metadata": {
        "id": "iVIh5yeKfqj8"
      },
      "execution_count": 4,
      "outputs": []
    },
    {
      "cell_type": "code",
      "source": [
        "# Features and Labels\n",
        "X = df['review']\n",
        "y = df['sentiment']\n",
        "\n",
        "# Text Vectorization\n",
        "vectorizer = CountVectorizer(stop_words='english')\n",
        "X_vectorized = vectorizer.fit_transform(X)\n",
        "\n",
        "# Split into train and test\n",
        "X_train, X_test, y_train, y_test = train_test_split(X_vectorized, y, test_size=0.25, random_state=42)\n",
        "\n"
      ],
      "metadata": {
        "id": "6RoNdjOxfusw"
      },
      "execution_count": 5,
      "outputs": []
    },
    {
      "cell_type": "code",
      "source": [
        "# Model\n",
        "model = MultinomialNB()\n",
        "model.fit(X_train, y_train)\n",
        "\n",
        "# Predictions\n",
        "y_pred = model.predict(X_test)\n",
        "\n",
        "# Accuracy\n",
        "accuracy = accuracy_score(y_test, y_pred)\n",
        "print(f\"Accuracy: {accuracy * 100:.2f}%\")\n"
      ],
      "metadata": {
        "colab": {
          "base_uri": "https://localhost:8080/"
        },
        "id": "bpA7FZC-fxHj",
        "outputId": "5b517665-c66c-46e2-a5e5-3bc7323d762b"
      },
      "execution_count": 6,
      "outputs": [
        {
          "output_type": "stream",
          "name": "stdout",
          "text": [
            "Accuracy: 82.60%\n"
          ]
        }
      ]
    },
    {
      "cell_type": "code",
      "source": [
        "# Predicting a new review\n",
        "new_reviews = [\"The movie was awesome!\", \"It was a boring movie.\"]\n",
        "new_reviews_vectorized = vectorizer.transform(new_reviews)\n",
        "predictions = model.predict(new_reviews_vectorized)\n",
        "\n",
        "for review, sentiment in zip(new_reviews, predictions):\n",
        "    print(f\"Review: '{review}' -> Sentiment: {sentiment}\")"
      ],
      "metadata": {
        "colab": {
          "base_uri": "https://localhost:8080/"
        },
        "id": "nmO1MD_if0Ci",
        "outputId": "2fb84ad2-5e5c-4f17-de52-ea374477da34"
      },
      "execution_count": 7,
      "outputs": [
        {
          "output_type": "stream",
          "name": "stdout",
          "text": [
            "Review: 'The movie was awesome!' -> Sentiment: pos\n",
            "Review: 'It was a boring movie.' -> Sentiment: neg\n"
          ]
        }
      ]
    }
  ]
}